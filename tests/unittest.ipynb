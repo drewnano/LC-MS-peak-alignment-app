{
 "cells": [
  {
   "cell_type": "code",
   "execution_count": 1,
   "metadata": {},
   "outputs": [],
   "source": [
    "#unit tests notebook just for my sake\n",
    "import unittest\n",
    "import pandas as pd\n",
    "import os\n",
    "import sys\n",
    "sys.path.append('..')\n",
    "sys.path.append('scripts')\n",
    "from utils import process_uploaded_file, calculate_rrt, find_next_least_rrt, find_next_highest_rrt"
   ]
  },
  {
   "cell_type": "code",
   "execution_count": 2,
   "metadata": {},
   "outputs": [],
   "source": [
    "class TestUtils(unittest.TestCase):\n",
    "    def test_process_uploaded_file(self):\n",
    "        # Create a sample Excel file\n",
    "        data = {\n",
    "            'Vial': ['A', 'A', 'B', 'B'],\n",
    "            'Area': [10, 20, 30, 40],\n",
    "            'Retention Time': [1, 2, 3, 4]\n",
    "        }\n",
    "        df = pd.DataFrame(data)\n",
    "        file_path = 'sample_file.xlsx'\n",
    "        df.to_excel(file_path, index=False)\n",
    "\n",
    "        # Call the function\n",
    "        data, maxarea, df_vial_counts = process_uploaded_file(file_path)\n",
    "\n",
    "        # Assert the expected output\n",
    "        expected_data = pd.DataFrame({\n",
    "            'Vial': ['A', 'A', 'B', 'B'],\n",
    "            'Area': [10, 20, 30, 40],\n",
    "            'Retention Time': [1, 2, 3, 4]\n",
    "        })\n",
    "        expected_maxarea = pd.DataFrame({\n",
    "            'Vial': ['A', 'B'],\n",
    "            'Area': [20, 40],\n",
    "            'Area Sum': [30, 70],\n",
    "            'Area Ratio': [66.67, 57.14],\n",
    "            'Retention Time': [2, 4],\n",
    "            'peakCount': [2, 2],\n",
    "            'Plate': ['', ''],\n",
    "            'Vial_Well': ['', '']\n",
    "        })\n",
    "        expected_df_vial_counts = pd.DataFrame({\n",
    "            'Vial': ['A', 'B'],\n",
    "            'peakCount': [2, 2]\n",
    "        })\n",
    "\n",
    "        pd.testing.assert_frame_equal(data, expected_data)\n",
    "        pd.testing.assert_frame_equal(maxarea, expected_maxarea)\n",
    "        pd.testing.assert_frame_equal(df_vial_counts, expected_df_vial_counts)\n",
    "\n",
    "        # Clean up the sample file\n",
    "        os.remove(file_path)"
   ]
  },
  {
   "cell_type": "code",
   "execution_count": 4,
   "metadata": {},
   "outputs": [
    {
     "name": "stderr",
     "output_type": "stream",
     "text": [
      "E\n",
      "======================================================================\n",
      "ERROR: test_process_uploaded_file (__main__.TestUtils)\n",
      "----------------------------------------------------------------------\n",
      "Traceback (most recent call last):\n",
      "  File \"C:\\Users\\sinegraa\\AppData\\Local\\Temp\\ipykernel_29332\\571121521.py\", line 14, in test_process_uploaded_file\n",
      "    data, maxarea, df_vial_counts = process_uploaded_file(file_path)\n",
      "  File \"c:\\Users\\sinegraa\\OneDrive - Merck Sharp & Dohme LLC\\hackathon\\dscs-hackathon-2024-team-3\\scripts\\tests\\..\\utils.py\", line 18, in process_uploaded_file\n",
      "    maxarea[['Plate', 'Vial_Well']] = maxarea['Vial'].str.split(':', expand=True)\n",
      "  File \"C:\\Users\\sinegraa\\AppData\\Roaming\\Python\\Python310\\site-packages\\pandas\\core\\frame.py\", line 3968, in __setitem__\n",
      "    self._setitem_array(key, value)\n",
      "  File \"C:\\Users\\sinegraa\\AppData\\Roaming\\Python\\Python310\\site-packages\\pandas\\core\\frame.py\", line 4010, in _setitem_array\n",
      "    check_key_length(self.columns, key, value)\n",
      "  File \"C:\\Users\\sinegraa\\AppData\\Roaming\\Python\\Python310\\site-packages\\pandas\\core\\indexers\\utils.py\", line 401, in check_key_length\n",
      "    raise ValueError(\"Columns must be same length as key\")\n",
      "ValueError: Columns must be same length as key\n",
      "\n",
      "----------------------------------------------------------------------\n",
      "Ran 1 test in 1.086s\n",
      "\n",
      "FAILED (errors=1)\n"
     ]
    },
    {
     "data": {
      "text/plain": [
       "<unittest.main.TestProgram at 0x13bfb7e5720>"
      ]
     },
     "execution_count": 4,
     "metadata": {},
     "output_type": "execute_result"
    }
   ],
   "source": [
    "#perform unit test on what is written above\n",
    "unittest.main(argv=[''], exit=False)\n"
   ]
  }
 ],
 "metadata": {
  "kernelspec": {
   "display_name": "Python 3",
   "language": "python",
   "name": "python3"
  },
  "language_info": {
   "codemirror_mode": {
    "name": "ipython",
    "version": 3
   },
   "file_extension": ".py",
   "mimetype": "text/x-python",
   "name": "python",
   "nbconvert_exporter": "python",
   "pygments_lexer": "ipython3",
   "version": "3.10.6"
  }
 },
 "nbformat": 4,
 "nbformat_minor": 2
}
