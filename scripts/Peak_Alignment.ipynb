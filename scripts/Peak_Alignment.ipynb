{
 "cells": [
  {
   "cell_type": "markdown",
   "metadata": {},
   "source": [
    "MS peak align based on bioAssay peak alignment for excipient screening\n",
    "see nb-dejejord-5094579-001"
   ]
  },
  {
   "cell_type": "code",
   "execution_count": 1,
   "metadata": {},
   "outputs": [],
   "source": [
    "#Loading Modules\n",
    "import pandas as pd #handling of csv files and dataframes\n",
    "import numpy as np\n",
    "import ipywidgets as widgets\n",
    "from IPython.display import display\n",
    "import streamlit as st\n"
   ]
  },
  {
   "cell_type": "code",
   "execution_count": 2,
   "metadata": {},
   "outputs": [],
   "source": [
    "#loading data \n",
    "data = pd.read_excel('./exampledata/Week2_Trimmed.xlsx')\n"
   ]
  },
  {
   "cell_type": "markdown",
   "metadata": {},
   "source": [
    "pre-processing and qc steps\n",
    "return parent peak retention time median, min RT, max RT, enter global parent peak RT (optional)\n",
    "parent API peak cutoff\n"
   ]
  },
  {
   "cell_type": "code",
   "execution_count": 3,
   "metadata": {},
   "outputs": [],
   "source": [
    "df_vial_counts = data.groupby(['Vial']).size().reset_index(name='peakCount')\n",
    "maxarea = data.groupby(['Vial'])['Area'].max().reset_index()\n",
    "areasum = data.groupby(['Vial'])['Area'].sum().reset_index(name='Sum of Area')\n",
    "maxarea['Area Sum'] = areasum['Sum of Area']\n",
    "maxarea['Area Ratio'] = maxarea['Area']/ maxarea['Area Sum']*100\n",
    "RTmax= (data.sort_values(['Vial', 'Area'], ascending=[True, False])\n",
    "             .drop_duplicates(['Vial']).reset_index(drop=True)\n",
    "          )\n",
    "maxarea = pd.merge(maxarea,RTmax,how = 'left', on = ['Vial', 'Area'])\n",
    "maxarea = pd.merge(maxarea,df_vial_counts, how = 'left', on = 'Vial')\n",
    "maxarea[['Plate','Vial_Well']] = maxarea['Vial'].str.split(':',expand=True)"
   ]
  },
  {
   "cell_type": "code",
   "execution_count": 4,
   "metadata": {},
   "outputs": [
    {
     "name": "stdout",
     "output_type": "stream",
     "text": [
      "   Unnamed: 0 SampleName    Vial  Retention Time       Area     Height  \\\n",
      "0           9  2Week_40C   1:A,1          12.673   217673.0     4168.0   \n",
      "1          10  2Week_40C   1:A,1           9.939    16884.0     3738.0   \n",
      "2          13  2Week_40C   1:A,1           8.904  4405299.0  1029144.0   \n",
      "3         135  2Week_40C  1:A,10           8.906  4743392.0  1098051.0   \n",
      "4         136  2Week_40C  1:A,10           9.940    18490.0     4110.0   \n",
      "5         118  2Week_40C  1:A,11           8.914  4287113.0   998123.0   \n",
      "6         119  2Week_40C  1:A,11           9.949    16371.0     3642.0   \n",
      "7         123  2Week_40C  1:A,12           8.918  5890075.0  1357347.0   \n",
      "8         126  2Week_40C  1:A,12           9.946    22715.0     5008.0   \n",
      "9          23  2Week_40C   1:A,2           9.939    24013.0     5314.0   \n",
      "\n",
      "  Peak Type          Name  Injection  \\\n",
      "0   Unknown           NaN          1   \n",
      "1     Found  API_Impurity          1   \n",
      "2     Found           API          1   \n",
      "3   Unknown           NaN          1   \n",
      "4   Unknown           NaN          1   \n",
      "5     Found           API          1   \n",
      "6     Found  API_Impurity          1   \n",
      "7     Found           API          1   \n",
      "8     Found  API_Impurity          1   \n",
      "9     Found  API_Impurity          1   \n",
      "\n",
      "                             Date Processed  \\\n",
      "0  Wednesday, April 24, 2024 3:31:20 PM EDT   \n",
      "1  Wednesday, April 24, 2024 3:31:20 PM EDT   \n",
      "2  Wednesday, April 24, 2024 3:31:20 PM EDT   \n",
      "3  Wednesday, April 24, 2024 4:31:35 PM EDT   \n",
      "4  Wednesday, April 24, 2024 4:31:35 PM EDT   \n",
      "5  Wednesday, April 24, 2024 3:31:23 PM EDT   \n",
      "6  Wednesday, April 24, 2024 3:31:23 PM EDT   \n",
      "7  Wednesday, April 24, 2024 3:31:24 PM EDT   \n",
      "8  Wednesday, April 24, 2024 3:31:24 PM EDT   \n",
      "9  Wednesday, April 24, 2024 3:31:20 PM EDT   \n",
      "\n",
      "                            Date Acquired Processing Method  \\\n",
      "0  Monday, April 22, 2024 12:11:18 PM EDT        EC_L254_PM   \n",
      "1  Monday, April 22, 2024 12:11:18 PM EDT        EC_L254_PM   \n",
      "2  Monday, April 22, 2024 12:11:18 PM EDT        EC_L254_PM   \n",
      "3   Monday, April 22, 2024 3:43:18 PM EDT        EC_L254_PM   \n",
      "4   Monday, April 22, 2024 3:43:18 PM EDT        EC_L254_PM   \n",
      "5   Monday, April 22, 2024 3:07:53 PM EDT        EC_L254_PM   \n",
      "6   Monday, April 22, 2024 3:07:53 PM EDT        EC_L254_PM   \n",
      "7   Monday, April 22, 2024 3:25:35 PM EDT        EC_L254_PM   \n",
      "8   Monday, April 22, 2024 3:25:35 PM EDT        EC_L254_PM   \n",
      "9  Monday, April 22, 2024 12:28:56 PM EDT        EC_L254_PM   \n",
      "\n",
      "   Channel Description  \n",
      "0  PDA Ch1 210nm@2.4nm  \n",
      "1  PDA Ch1 210nm@2.4nm  \n",
      "2  PDA Ch1 210nm@2.4nm  \n",
      "3  PDA Ch1 210nm@2.4nm  \n",
      "4  PDA Ch1 210nm@2.4nm  \n",
      "5  PDA Ch1 210nm@2.4nm  \n",
      "6  PDA Ch1 210nm@2.4nm  \n",
      "7  PDA Ch1 210nm@2.4nm  \n",
      "8  PDA Ch1 210nm@2.4nm  \n",
      "9  PDA Ch1 210nm@2.4nm  \n"
     ]
    }
   ],
   "source": [
    "print(data.head(10))"
   ]
  },
  {
   "cell_type": "code",
   "execution_count": 5,
   "metadata": {},
   "outputs": [
    {
     "name": "stdout",
     "output_type": "stream",
     "text": [
      "Median retention time: 8.903\n",
      "Minimum retention time: 8.852\n",
      "Maximum retention time: 9.987\n"
     ]
    }
   ],
   "source": [
    "\n",
    "median_retention_time = maxarea['Retention Time'].median()\n",
    "min_retention_time = maxarea['Retention Time'].min()\n",
    "max_retention_time = maxarea['Retention Time'].max()\n",
    "#print median, min and max retention time\n",
    "print('Median retention time:', median_retention_time)\n",
    "print('Minimum retention time:', min_retention_time)\n",
    "print('Maximum retention time:', max_retention_time)"
   ]
  },
  {
   "cell_type": "markdown",
   "metadata": {},
   "source": [
    "calculate RRT values, count of vial peaks, sum of AreaRatio, Assign noise, Shift global RRT option to merge"
   ]
  },
  {
   "cell_type": "code",
   "execution_count": 6,
   "metadata": {},
   "outputs": [
    {
     "name": "stdout",
     "output_type": "stream",
     "text": [
      "    RRT  peakCount  AreaRatio Sum\n",
      "0  0.11          1       0.001787\n",
      "1  0.32          4       0.037787\n",
      "2  0.33          1       0.048430\n",
      "3  0.34          1       0.005200\n",
      "4  0.90          1       0.000000\n",
      "5  1.00        145     144.000000\n",
      "6  1.12        138       0.532429\n",
      "7  1.17          7       0.622475\n",
      "8  1.18          9       1.920207\n",
      "9  1.41          1       0.002448\n"
     ]
    }
   ],
   "source": [
    "#calculate relative rention time 'RRT' of all of the peaks\n",
    "data['RRT'] = data.apply(lambda row: row['Retention Time'] / maxarea[maxarea['Vial'] == row['Vial']]['Retention Time'].values[0], axis=1)\n",
    "data['RRT'] = data['RRT'].round(2)\n",
    "#calculate Area ratio of all of the peaks\n",
    "data['AreaRatio'] = data.apply(lambda row: row['Area']/ maxarea[maxarea['Vial'] == row['Vial']]['Area'].values[0], axis=1)\n",
    "#count number of rows with each RRT value\n",
    "df_RRT_counts = data.groupby(['RRT']).size().reset_index(name='peakCount')\n",
    "#find the RRT value with the highest number of peaks\n",
    "max_RRT = df_RRT_counts[df_RRT_counts['peakCount'] == df_RRT_counts['peakCount'].max()]['RRT'].values[0]\n",
    "#return the sum of the area ratio values for each RRT value\n",
    "df_RRT_area_ratio = data.groupby(['RRT'])['AreaRatio'].sum().reset_index(name='AreaRatio Sum')\n",
    "df_RRT = pd.merge(df_RRT_counts, df_RRT_area_ratio, on='RRT')\n",
    "print(df_RRT.head(10))"
   ]
  },
  {
   "cell_type": "markdown",
   "metadata": {},
   "source": [
    "After you choose which peaks to shift, show what you are shifting in a table essentially"
   ]
  },
  {
   "cell_type": "code",
   "execution_count": null,
   "metadata": {},
   "outputs": [],
   "source": [
    "# DataFrame to store selected rows\n",
    "selected_rows_df = pd.DataFrame(columns=df.columns)\n",
    "\n",
    "# Streamlit title\n",
    "st.title(\"Dropdown Menu with Conditional RRT Merging\")\n",
    "\n",
    "# Function to find the row with the next least 'RRT' value for the same 'vial'\n",
    "def find_next_least_rrt(df, vial, rrt):\n",
    "    subset_df = df[(df['Vial'] == vial) & (df['RRT'] > rrt)]\n",
    "    if not subset_df.empty:\n",
    "        next_row = subset_df.loc[subset_df['RRT'].idxmin()]\n",
    "        return next_row\n",
    "    else:\n",
    "        return None\n",
    "\n",
    "# Function to find the row with the next highest 'RRT' value for the same 'vial'\n",
    "def find_next_highest_rrt(df, vial, rrt):\n",
    "    subset_df = df[(df['Vial'] == vial) & (df['RRT'] < rrt)]\n",
    "    if not subset_df.empty:\n",
    "        next_row = subset_df.loc[subset_df['RRT'].idxmax()]\n",
    "        return next_row\n",
    "    else:\n",
    "        return None\n",
    "\n",
    "# Display dropdown menus for each row\n",
    "st.write(\"Select an action for each row:\")\n",
    "for index, row in df_RRT.iterrows():\n",
    "    # Dropdown for selecting an action\n",
    "    action = st.selectbox(\n",
    "        f\"Action for {row['Name']}:\",\n",
    "        options=['None', '< shift to left', '> shift to right'],\n",
    "        key=index  # Use the row index as the key for unique identification\n",
    "    )\n",
    "    \n",
    "    # If \"< shift to left\" is selected, add the row and the next least 'RRT' row to `selected_rows_df`\n",
    "    if action == '< shift to left':\n",
    "        selected_rows_df = selected_rows_df.append(row, ignore_index=True)\n",
    "        next_row = find_next_least_rrt(data, row['Vial'], row['RRT'])\n",
    "        if next_row is not None:\n",
    "            selected_rows_df = selected_rows_df.append(next_row, ignore_index=True)\n",
    "    \n",
    "    # If \"> shift to right\" is selected, add the row and the next highest 'RRT' row to `selected_rows_df`\n",
    "    elif action == '> shift to right':\n",
    "        selected_rows_df = selected_rows_df.append(row, ignore_index=True)\n",
    "        next_row = find_next_highest_rrt(data, row['Vial'], row['RRT'])\n",
    "        if next_row is not None:\n",
    "            selected_rows_df = selected_rows_df.append(next_row, ignore_index=True)\n",
    "\n",
    "# Display the updated DataFrame\n",
    "st.write(\"Selected Rows DataFrame:\")\n",
    "st.write(selected_rows_df)\n"
   ]
  }
 ],
 "metadata": {
  "kernelspec": {
   "display_name": "Python 3 (ipykernel)",
   "language": "python",
   "name": "python3"
  },
  "language_info": {
   "codemirror_mode": {
    "name": "ipython",
    "version": 3
   },
   "file_extension": ".py",
   "mimetype": "text/x-python",
   "name": "python",
   "nbconvert_exporter": "python",
   "pygments_lexer": "ipython3",
   "version": "3.10.6"
  }
 },
 "nbformat": 4,
 "nbformat_minor": 4
}
