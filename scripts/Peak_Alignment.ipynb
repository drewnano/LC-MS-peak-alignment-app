{
 "cells": [
  {
   "cell_type": "markdown",
   "metadata": {},
   "source": [
    "MS peak align based on bioAssay peak alignment for excipient screening\n",
    "see nb-dejejord-5094579-001"
   ]
  },
  {
   "cell_type": "code",
   "execution_count": 1,
   "metadata": {},
   "outputs": [],
   "source": [
    "#Loading Modules\n",
    "import pandas as pd #handling of csv files and dataframes\n",
    "import numpy as np\n",
    "import ipywidgets as widgets\n",
    "from IPython.display import display\n",
    "import streamlit as st\n"
   ]
  },
  {
   "cell_type": "code",
   "execution_count": 2,
   "metadata": {},
   "outputs": [
    {
     "name": "stderr",
     "output_type": "stream",
     "text": [
      "2024-09-06 13:53:43.242 WARNING streamlit.runtime.scriptrunner_utils.script_run_context: Thread 'MainThread': missing ScriptRunContext! This warning can be ignored when running in bare mode.\n",
      "2024-09-06 13:53:43.246 WARNING streamlit.runtime.scriptrunner_utils.script_run_context: Thread 'MainThread': missing ScriptRunContext! This warning can be ignored when running in bare mode.\n",
      "2024-09-06 13:53:44.149 \n",
      "  \u001b[33m\u001b[1mWarning:\u001b[0m to view this Streamlit app on a browser, run it with the following\n",
      "  command:\n",
      "\n",
      "    streamlit run C:\\Users\\sinegraa\\AppData\\Roaming\\Python\\Python310\\site-packages\\ipykernel_launcher.py [ARGUMENTS]\n",
      "2024-09-06 13:53:44.150 Thread 'MainThread': missing ScriptRunContext! This warning can be ignored when running in bare mode.\n",
      "2024-09-06 13:53:44.151 Thread 'MainThread': missing ScriptRunContext! This warning can be ignored when running in bare mode.\n",
      "2024-09-06 13:53:44.152 Thread 'MainThread': missing ScriptRunContext! This warning can be ignored when running in bare mode.\n",
      "2024-09-06 13:53:44.153 Thread 'MainThread': missing ScriptRunContext! This warning can be ignored when running in bare mode.\n",
      "2024-09-06 13:53:44.154 Thread 'MainThread': missing ScriptRunContext! This warning can be ignored when running in bare mode.\n"
     ]
    },
    {
     "data": {
      "text/plain": [
       "DeltaGenerator()"
      ]
     },
     "execution_count": 2,
     "metadata": {},
     "output_type": "execute_result"
    }
   ],
   "source": [
    "st.set_page_config(page_title=\"Peak Alignment App\", layout=\"wide\")\n",
    "st.title(\"LC Peak Alignment Tool\")\n",
    "st.markdown(\n",
    "    \"Hackathon Team Members: Kabir Dhingra, David Gray, Stephanie Mozley, Andrew Sinegra, and Kevin Wang \"\n",
    ")\n",
    "st.markdown(\"---\")"
   ]
  },
  {
   "cell_type": "code",
   "execution_count": 3,
   "metadata": {},
   "outputs": [
    {
     "name": "stderr",
     "output_type": "stream",
     "text": [
      "2024-09-06 13:53:44.187 Thread 'MainThread': missing ScriptRunContext! This warning can be ignored when running in bare mode.\n",
      "2024-09-06 13:53:44.190 Thread 'MainThread': missing ScriptRunContext! This warning can be ignored when running in bare mode.\n",
      "2024-09-06 13:53:44.194 Thread 'MainThread': missing ScriptRunContext! This warning can be ignored when running in bare mode.\n",
      "2024-09-06 13:53:44.198 Thread 'MainThread': missing ScriptRunContext! This warning can be ignored when running in bare mode.\n"
     ]
    }
   ],
   "source": [
    "# File uploader widget\n",
    "uploaded_file = st.file_uploader(\"Upload an excel file of the peaks\", type=[\"xlsx\"])\n",
    "\n",
    "# Check if a file has been uploaded\n",
    "if uploaded_file is not None:\n",
    "    # Read the uploaded file as a DataFrame\n",
    "    data = pd.read_excel(uploaded_file)\n",
    "    \n",
    "    # Display the uploaded DataFrame\n",
    "    st.write(\"Uploaded DataFrame:\")\n",
    "    st.write(data)"
   ]
  },
  {
   "cell_type": "markdown",
   "metadata": {},
   "source": [
    "pre-processing and qc steps\n",
    "return parent peak retention time median, min RT, max RT, enter global parent peak RT (optional)\n",
    "parent API peak cutoff\n"
   ]
  },
  {
   "cell_type": "code",
   "execution_count": 5,
   "metadata": {},
   "outputs": [],
   "source": [
    "#save ./exampledata/Week2_Trimmed.xlsx as data\n",
    "data = pd.read_excel(\"./exampledata/Week2_Trimmed.xlsx\")"
   ]
  },
  {
   "cell_type": "code",
   "execution_count": 6,
   "metadata": {},
   "outputs": [],
   "source": [
    "df_vial_counts = data.groupby(['Vial']).size().reset_index(name='peakCount')\n",
    "maxarea = data.groupby(['Vial'])['Area'].max().reset_index()\n",
    "areasum = data.groupby(['Vial'])['Area'].sum().reset_index(name='Sum of Area')\n",
    "maxarea['Area Sum'] = areasum['Sum of Area']\n",
    "maxarea['Area Ratio'] = maxarea['Area']/ maxarea['Area Sum']*100\n",
    "RTmax= (data.sort_values(['Vial', 'Area'], ascending=[True, False])\n",
    "             .drop_duplicates(['Vial']).reset_index(drop=True)\n",
    "          )\n",
    "maxarea = pd.merge(maxarea,RTmax,how = 'left', on = ['Vial', 'Area'])\n",
    "maxarea = pd.merge(maxarea,df_vial_counts, how = 'left', on = 'Vial')\n",
    "maxarea[['Plate','Vial_Well']] = maxarea['Vial'].str.split(':',expand=True)"
   ]
  },
  {
   "cell_type": "code",
   "execution_count": 7,
   "metadata": {},
   "outputs": [
    {
     "name": "stdout",
     "output_type": "stream",
     "text": [
      "Median retention time: 8.903\n",
      "Minimum retention time: 8.852\n",
      "Maximum retention time: 9.987\n"
     ]
    }
   ],
   "source": [
    "\n",
    "median_retention_time = maxarea['Retention Time'].median()\n",
    "min_retention_time = maxarea['Retention Time'].min()\n",
    "max_retention_time = maxarea['Retention Time'].max()\n",
    "#print median, min and max retention time\n",
    "print('Median retention time:', median_retention_time)\n",
    "print('Minimum retention time:', min_retention_time)\n",
    "print('Maximum retention time:', max_retention_time)"
   ]
  },
  {
   "cell_type": "markdown",
   "metadata": {},
   "source": [
    "calculate RRT values, count of vial peaks, sum of AreaRatio, Assign noise, Shift global RRT option to merge"
   ]
  },
  {
   "cell_type": "code",
   "execution_count": 8,
   "metadata": {},
   "outputs": [
    {
     "name": "stdout",
     "output_type": "stream",
     "text": [
      "    RRT  peakCount  AreaRatio Sum\n",
      "0  0.11          1       0.001787\n",
      "1  0.32          4       0.037787\n",
      "2  0.33          1       0.048430\n",
      "3  0.34          1       0.005200\n",
      "4  0.90          1       0.000000\n",
      "5  1.00        145     144.000000\n",
      "6  1.12        138       0.532429\n",
      "7  1.17          7       0.622475\n",
      "8  1.18          9       1.920207\n",
      "9  1.41          1       0.002448\n"
     ]
    }
   ],
   "source": [
    "#calculate relative rention time 'RRT' of all of the peaks\n",
    "data['RRT'] = data.apply(lambda row: row['Retention Time'] / maxarea[maxarea['Vial'] == row['Vial']]['Retention Time'].values[0], axis=1)\n",
    "data['RRT'] = data['RRT'].round(2)\n",
    "#calculate Area ratio of all of the peaks\n",
    "data['AreaRatio'] = data.apply(lambda row: row['Area']/ maxarea[maxarea['Vial'] == row['Vial']]['Area'].values[0], axis=1)\n",
    "#count number of rows with each RRT value\n",
    "df_RRT_counts = data.groupby(['RRT']).size().reset_index(name='peakCount')\n",
    "#find the RRT value with the highest number of peaks\n",
    "max_RRT = df_RRT_counts[df_RRT_counts['peakCount'] == df_RRT_counts['peakCount'].max()]['RRT'].values[0]\n",
    "#return the sum of the area ratio values for each RRT value\n",
    "df_RRT_area_ratio = data.groupby(['RRT'])['AreaRatio'].sum().reset_index(name='AreaRatio Sum')\n",
    "df_RRT = pd.merge(df_RRT_counts, df_RRT_area_ratio, on='RRT')\n",
    "print(df_RRT.head(10))"
   ]
  },
  {
   "cell_type": "code",
   "execution_count": 9,
   "metadata": {},
   "outputs": [],
   "source": [
    "#subset data to only the rows SampleName, Vial, RRT, and AreaRatio\n",
    "data = data[['SampleName', 'Vial', 'RRT', 'AreaRatio']]"
   ]
  },
  {
   "cell_type": "markdown",
   "metadata": {},
   "source": [
    "After you choose which peaks to shift, show what you are shifting in a table essentially"
   ]
  },
  {
   "cell_type": "code",
   "execution_count": 10,
   "metadata": {},
   "outputs": [
    {
     "name": "stderr",
     "output_type": "stream",
     "text": [
      "2024-09-06 13:56:43.349 Thread 'MainThread': missing ScriptRunContext! This warning can be ignored when running in bare mode.\n",
      "2024-09-06 13:56:43.351 Thread 'MainThread': missing ScriptRunContext! This warning can be ignored when running in bare mode.\n",
      "2024-09-06 13:56:43.355 Thread 'MainThread': missing ScriptRunContext! This warning can be ignored when running in bare mode.\n",
      "2024-09-06 13:56:43.357 Thread 'MainThread': missing ScriptRunContext! This warning can be ignored when running in bare mode.\n",
      "2024-09-06 13:56:43.358 Thread 'MainThread': missing ScriptRunContext! This warning can be ignored when running in bare mode.\n",
      "2024-09-06 13:56:43.359 Thread 'MainThread': missing ScriptRunContext! This warning can be ignored when running in bare mode.\n",
      "2024-09-06 13:56:43.361 Thread 'MainThread': missing ScriptRunContext! This warning can be ignored when running in bare mode.\n",
      "2024-09-06 13:56:43.361 Thread 'MainThread': missing ScriptRunContext! This warning can be ignored when running in bare mode.\n",
      "2024-09-06 13:56:43.362 Thread 'MainThread': missing ScriptRunContext! This warning can be ignored when running in bare mode.\n",
      "2024-09-06 13:56:43.363 Session state does not function when running a script without `streamlit run`\n",
      "2024-09-06 13:56:43.366 Thread 'MainThread': missing ScriptRunContext! This warning can be ignored when running in bare mode.\n",
      "2024-09-06 13:56:43.366 Thread 'MainThread': missing ScriptRunContext! This warning can be ignored when running in bare mode.\n",
      "C:\\Users\\sinegraa\\AppData\\Local\\Temp\\ipykernel_28392\\762664664.py:37: FutureWarning: The frame.append method is deprecated and will be removed from pandas in a future version. Use pandas.concat instead.\n",
      "  selected_rows_df = selected_rows_df.append(data[data['RRT'] == row['RRT']], ignore_index=True)\n",
      "2024-09-06 13:56:43.371 Thread 'MainThread': missing ScriptRunContext! This warning can be ignored when running in bare mode.\n",
      "2024-09-06 13:56:43.376 Thread 'MainThread': missing ScriptRunContext! This warning can be ignored when running in bare mode.\n",
      "2024-09-06 13:56:43.377 Thread 'MainThread': missing ScriptRunContext! This warning can be ignored when running in bare mode.\n",
      "2024-09-06 13:56:43.377 Thread 'MainThread': missing ScriptRunContext! This warning can be ignored when running in bare mode.\n",
      "2024-09-06 13:56:43.379 Thread 'MainThread': missing ScriptRunContext! This warning can be ignored when running in bare mode.\n",
      "2024-09-06 13:56:43.382 Thread 'MainThread': missing ScriptRunContext! This warning can be ignored when running in bare mode.\n",
      "2024-09-06 13:56:43.383 Thread 'MainThread': missing ScriptRunContext! This warning can be ignored when running in bare mode.\n",
      "2024-09-06 13:56:43.385 Thread 'MainThread': missing ScriptRunContext! This warning can be ignored when running in bare mode.\n",
      "2024-09-06 13:56:43.387 Thread 'MainThread': missing ScriptRunContext! This warning can be ignored when running in bare mode.\n",
      "2024-09-06 13:56:43.388 Thread 'MainThread': missing ScriptRunContext! This warning can be ignored when running in bare mode.\n",
      "2024-09-06 13:56:43.391 Thread 'MainThread': missing ScriptRunContext! This warning can be ignored when running in bare mode.\n",
      "2024-09-06 13:56:43.392 Thread 'MainThread': missing ScriptRunContext! This warning can be ignored when running in bare mode.\n",
      "2024-09-06 13:56:43.393 Thread 'MainThread': missing ScriptRunContext! This warning can be ignored when running in bare mode.\n",
      "2024-09-06 13:56:43.395 Thread 'MainThread': missing ScriptRunContext! This warning can be ignored when running in bare mode.\n",
      "2024-09-06 13:56:43.395 Thread 'MainThread': missing ScriptRunContext! This warning can be ignored when running in bare mode.\n",
      "2024-09-06 13:56:43.397 Thread 'MainThread': missing ScriptRunContext! This warning can be ignored when running in bare mode.\n",
      "2024-09-06 13:56:43.398 Thread 'MainThread': missing ScriptRunContext! This warning can be ignored when running in bare mode.\n",
      "2024-09-06 13:56:43.399 Thread 'MainThread': missing ScriptRunContext! This warning can be ignored when running in bare mode.\n",
      "2024-09-06 13:56:43.400 Thread 'MainThread': missing ScriptRunContext! This warning can be ignored when running in bare mode.\n",
      "2024-09-06 13:56:43.405 Thread 'MainThread': missing ScriptRunContext! This warning can be ignored when running in bare mode.\n",
      "2024-09-06 13:56:43.407 Thread 'MainThread': missing ScriptRunContext! This warning can be ignored when running in bare mode.\n",
      "2024-09-06 13:56:43.411 Thread 'MainThread': missing ScriptRunContext! This warning can be ignored when running in bare mode.\n",
      "2024-09-06 13:56:43.413 Thread 'MainThread': missing ScriptRunContext! This warning can be ignored when running in bare mode.\n",
      "2024-09-06 13:56:43.413 Thread 'MainThread': missing ScriptRunContext! This warning can be ignored when running in bare mode.\n",
      "2024-09-06 13:56:43.414 Thread 'MainThread': missing ScriptRunContext! This warning can be ignored when running in bare mode.\n",
      "2024-09-06 13:56:43.416 Thread 'MainThread': missing ScriptRunContext! This warning can be ignored when running in bare mode.\n",
      "2024-09-06 13:56:43.418 Thread 'MainThread': missing ScriptRunContext! This warning can be ignored when running in bare mode.\n",
      "2024-09-06 13:56:43.421 Thread 'MainThread': missing ScriptRunContext! This warning can be ignored when running in bare mode.\n",
      "2024-09-06 13:56:43.423 Thread 'MainThread': missing ScriptRunContext! This warning can be ignored when running in bare mode.\n",
      "2024-09-06 13:56:43.425 Thread 'MainThread': missing ScriptRunContext! This warning can be ignored when running in bare mode.\n",
      "2024-09-06 13:56:43.428 Thread 'MainThread': missing ScriptRunContext! This warning can be ignored when running in bare mode.\n",
      "2024-09-06 13:56:43.430 Thread 'MainThread': missing ScriptRunContext! This warning can be ignored when running in bare mode.\n",
      "2024-09-06 13:56:43.431 Thread 'MainThread': missing ScriptRunContext! This warning can be ignored when running in bare mode.\n",
      "2024-09-06 13:56:43.433 Thread 'MainThread': missing ScriptRunContext! This warning can be ignored when running in bare mode.\n",
      "2024-09-06 13:56:43.434 Thread 'MainThread': missing ScriptRunContext! This warning can be ignored when running in bare mode.\n",
      "2024-09-06 13:56:43.440 Thread 'MainThread': missing ScriptRunContext! This warning can be ignored when running in bare mode.\n",
      "2024-09-06 13:56:43.441 Thread 'MainThread': missing ScriptRunContext! This warning can be ignored when running in bare mode.\n",
      "2024-09-06 13:56:43.443 Thread 'MainThread': missing ScriptRunContext! This warning can be ignored when running in bare mode.\n",
      "2024-09-06 13:56:43.446 Thread 'MainThread': missing ScriptRunContext! This warning can be ignored when running in bare mode.\n",
      "2024-09-06 13:56:43.448 Thread 'MainThread': missing ScriptRunContext! This warning can be ignored when running in bare mode.\n",
      "2024-09-06 13:56:43.451 Thread 'MainThread': missing ScriptRunContext! This warning can be ignored when running in bare mode.\n",
      "2024-09-06 13:56:43.453 Thread 'MainThread': missing ScriptRunContext! This warning can be ignored when running in bare mode.\n",
      "2024-09-06 13:56:43.454 Thread 'MainThread': missing ScriptRunContext! This warning can be ignored when running in bare mode.\n",
      "2024-09-06 13:56:43.455 Thread 'MainThread': missing ScriptRunContext! This warning can be ignored when running in bare mode.\n",
      "2024-09-06 13:56:43.458 Thread 'MainThread': missing ScriptRunContext! This warning can be ignored when running in bare mode.\n",
      "2024-09-06 13:56:43.461 Thread 'MainThread': missing ScriptRunContext! This warning can be ignored when running in bare mode.\n",
      "2024-09-06 13:56:43.463 Thread 'MainThread': missing ScriptRunContext! This warning can be ignored when running in bare mode.\n",
      "2024-09-06 13:56:43.465 Thread 'MainThread': missing ScriptRunContext! This warning can be ignored when running in bare mode.\n",
      "2024-09-06 13:56:43.468 Thread 'MainThread': missing ScriptRunContext! This warning can be ignored when running in bare mode.\n",
      "2024-09-06 13:56:43.469 Thread 'MainThread': missing ScriptRunContext! This warning can be ignored when running in bare mode.\n",
      "2024-09-06 13:56:43.472 Thread 'MainThread': missing ScriptRunContext! This warning can be ignored when running in bare mode.\n",
      "2024-09-06 13:56:43.476 Thread 'MainThread': missing ScriptRunContext! This warning can be ignored when running in bare mode.\n",
      "2024-09-06 13:56:43.480 Thread 'MainThread': missing ScriptRunContext! This warning can be ignored when running in bare mode.\n",
      "2024-09-06 13:56:43.481 Thread 'MainThread': missing ScriptRunContext! This warning can be ignored when running in bare mode.\n",
      "2024-09-06 13:56:43.482 Thread 'MainThread': missing ScriptRunContext! This warning can be ignored when running in bare mode.\n",
      "2024-09-06 13:56:43.514 Thread 'MainThread': missing ScriptRunContext! This warning can be ignored when running in bare mode.\n",
      "2024-09-06 13:56:43.515 Thread 'MainThread': missing ScriptRunContext! This warning can be ignored when running in bare mode.\n",
      "2024-09-06 13:56:43.516 Thread 'MainThread': missing ScriptRunContext! This warning can be ignored when running in bare mode.\n",
      "2024-09-06 13:56:43.518 Thread 'MainThread': missing ScriptRunContext! This warning can be ignored when running in bare mode.\n",
      "2024-09-06 13:56:43.558 Thread 'MainThread': missing ScriptRunContext! This warning can be ignored when running in bare mode.\n",
      "2024-09-06 13:56:43.560 Thread 'MainThread': missing ScriptRunContext! This warning can be ignored when running in bare mode.\n",
      "2024-09-06 13:56:43.570 Thread 'MainThread': missing ScriptRunContext! This warning can be ignored when running in bare mode.\n",
      "2024-09-06 13:56:43.572 Thread 'MainThread': missing ScriptRunContext! This warning can be ignored when running in bare mode.\n",
      "2024-09-06 13:56:43.574 Thread 'MainThread': missing ScriptRunContext! This warning can be ignored when running in bare mode.\n",
      "2024-09-06 13:56:43.575 Thread 'MainThread': missing ScriptRunContext! This warning can be ignored when running in bare mode.\n",
      "2024-09-06 13:56:43.576 Thread 'MainThread': missing ScriptRunContext! This warning can be ignored when running in bare mode.\n"
     ]
    },
    {
     "data": {
      "text/plain": [
       "False"
      ]
     },
     "execution_count": 10,
     "metadata": {},
     "output_type": "execute_result"
    }
   ],
   "source": [
    "selected_rows_df = pd.DataFrame(columns=data.columns)\n",
    "df_RRT['shift global RRT'] = 'None'\n",
    "# Streamlit title\n",
    "st.title(\"Select global RRT values for merging peaks\")\n",
    "\n",
    "# Function to find the row with the next least 'RRT' value for the same 'vial'\n",
    "def find_next_least_rrt(df, vial, rrt):\n",
    "    subset_df = df[(df['Vial'] == vial) & (df['RRT'] > rrt)]\n",
    "    if not subset_df.empty:\n",
    "        next_row = subset_df.loc[subset_df['RRT'].idxmin()]\n",
    "        return next_row\n",
    "    else:\n",
    "        return None\n",
    "\n",
    "# Function to find the row with the next highest 'RRT' value for the same 'vial'\n",
    "def find_next_highest_rrt(df, vial, rrt):\n",
    "    subset_df = df[(df['Vial'] == vial) & (df['RRT'] < rrt)]\n",
    "    if not subset_df.empty:\n",
    "        next_row = subset_df.loc[subset_df['RRT'].idxmax()]\n",
    "        return next_row\n",
    "    else:\n",
    "        return None\n",
    "\n",
    "# Display dropdown menus for each row\n",
    "st.write(\"Select an action for each row:\")\n",
    "for index, row in df_RRT.iterrows():\n",
    "    # Dropdown for selecting an action with 'None' as the default option\n",
    "    shiftaction = st.selectbox(\n",
    "        f\"Action for {row['shift global RRT']}:\",\n",
    "        options=['None', '< shift to left', '> shift to right'],\n",
    "        index=0,  # 'None' is the default option\n",
    "        key=index  # Use the row index as the key for unique identification\n",
    "    )\n",
    "\n",
    "    # if 'None' is selected, add the rows from each vial with this RRT value to the 'selected_rows_df'\n",
    "    if shiftaction == 'None':\n",
    "        selected_rows_df = selected_rows_df.append(data[data['RRT'] == row['RRT']], ignore_index=True)\n",
    "\n",
    "    \n",
    "    # If \"< shift to left\" is selected, find the next lowest RRT row and combine their arearatios and add to 'selected_rows_df\n",
    "    if shiftaction == '< shift to left':\n",
    "        next_row = find_next_least_rrt(data, row['Vial'], row['RRT'])\n",
    "        if next_row is not None:\n",
    "            next_row['SampleName'] = row['SampleName']\n",
    "            next_row['Vial'] = row['Vial']\n",
    "            next_row['RRT'] = next_row['RRT']\n",
    "            next_row['AreaRatio'] = row['AreaRatio'] + next_row['AreaRatio']\n",
    "            selected_rows_df = selected_rows_df.append(next_row, ignore_index=True)\n",
    "    \n",
    "    # If \"> shift to right\" is selected, find the next highest RRT row and combine their arearatios and add to `selected_rows_df`\n",
    "    elif shiftaction == '> shift to right':\n",
    "        next_row = find_next_highest_rrt(data, row['Vial'], row['RRT'])\n",
    "        if next_row is not None:\n",
    "            next_row['SampleName'] = row['SampleName']\n",
    "            next_row['Vial'] = row['Vial']\n",
    "            next_row['RRT'] = next_row['RRT']\n",
    "            next_row['AreaRatio'] = row['AreaRatio'] + next_row['AreaRatio']\n",
    "            selected_rows_df = selected_rows_df.append(next_row, ignore_index=True)\n",
    "# Display the updated DataFrame\n",
    "pivoted_df = selected_rows_df.pivot_table(index=['SampleName', 'Vial'], columns='RRT', values='AreaRatio', fill_value=0)\n",
    "st.write(\"Selected Rows DataFrame:\")\n",
    "st.write(selected_rows_df)\n",
    "# Convert the DataFrame to a CSV format\n",
    "csv = pivoted_df.to_csv(index=False)\n",
    "st.download_button(\n",
    "    label=\"Download Output as CSV\",\n",
    "    data=csv,\n",
    "    file_name='selected_rows.csv',\n",
    "    mime='text/csv',\n",
    ")\n"
   ]
  },
  {
   "cell_type": "code",
   "execution_count": 11,
   "metadata": {},
   "outputs": [
    {
     "name": "stdout",
     "output_type": "stream",
     "text": [
      "RRT                0.11  0.32  0.33  0.34  1.00      1.12      1.17  1.18  \\\n",
      "SampleName Vial                                                             \n",
      "2Week_40C  1:A,1    0.0   0.0   0.0   0.0     1  0.003833  0.000000   0.0   \n",
      "           1:A,10   0.0   0.0   0.0   0.0     1  0.003898  0.000000   0.0   \n",
      "           1:A,11   0.0   0.0   0.0   0.0     1  0.003819  0.000000   0.0   \n",
      "           1:A,12   0.0   0.0   0.0   0.0     1  0.003856  0.000000   0.0   \n",
      "           1:A,2    0.0   0.0   0.0   0.0     1  0.003874  0.000000   0.0   \n",
      "           1:A,3    0.0   0.0   0.0   0.0     1  0.003795  0.000000   0.0   \n",
      "           1:A,4    0.0   0.0   0.0   0.0     1  0.003948  0.000000   0.0   \n",
      "           1:A,5    0.0   0.0   0.0   0.0     1  0.003921  0.006186   0.0   \n",
      "           1:A,6    0.0   0.0   0.0   0.0     1  0.003899  0.016116   0.0   \n",
      "           1:A,7    0.0   0.0   0.0   0.0     1  0.003888  0.081484   0.0   \n",
      "\n",
      "RRT                1.41      1.42  1.53  \n",
      "SampleName Vial                          \n",
      "2Week_40C  1:A,1    0.0  0.049412   0.0  \n",
      "           1:A,10   0.0  0.000000   0.0  \n",
      "           1:A,11   0.0  0.000000   0.0  \n",
      "           1:A,12   0.0  0.000000   0.0  \n",
      "           1:A,2    0.0  0.000000   0.0  \n",
      "           1:A,3    0.0  0.000000   0.0  \n",
      "           1:A,4    0.0  0.000000   0.0  \n",
      "           1:A,5    0.0  0.000000   0.0  \n",
      "           1:A,6    0.0  0.000000   0.0  \n",
      "           1:A,7    0.0  0.000000   0.0  \n"
     ]
    }
   ],
   "source": [
    "print(pivoted_df.head(10))"
   ]
  }
 ],
 "metadata": {
  "kernelspec": {
   "display_name": "Python 3 (ipykernel)",
   "language": "python",
   "name": "python3"
  },
  "language_info": {
   "codemirror_mode": {
    "name": "ipython",
    "version": 3
   },
   "file_extension": ".py",
   "mimetype": "text/x-python",
   "name": "python",
   "nbconvert_exporter": "python",
   "pygments_lexer": "ipython3",
   "version": "3.10.6"
  }
 },
 "nbformat": 4,
 "nbformat_minor": 4
}
