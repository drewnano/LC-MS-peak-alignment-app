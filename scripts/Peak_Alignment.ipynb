{
 "cells": [
  {
   "cell_type": "markdown",
   "metadata": {},
   "source": [
    "MS peak align based on bioAssay peak alignment for excipient screening\n",
    "see nb-dejejord-5094579-001"
   ]
  },
  {
   "cell_type": "code",
   "execution_count": 76,
   "metadata": {},
   "outputs": [],
   "source": [
    "#Loading Modules\n",
    "import pandas as pd #handling of csv files and dataframes\n",
    "import numpy as np\n",
    "import ipywidgets as widgets\n",
    "from IPython.display import display\n",
    "import streamlit as st\n"
   ]
  },
  {
   "cell_type": "code",
   "execution_count": null,
   "metadata": {},
   "outputs": [],
   "source": [
    "st.set_page_config(page_title=\"Peak Alignment App\", layout=\"wide\")\n",
    "st.title(\"LC Peak Alignment Tool\")\n",
    "st.markdown(\n",
    "    \"Hackathon Team Members: Kabir Dhingra, David Gray, Stephanie Mozley, Andrew Sinegra, and Kevin Wang \"\n",
    ")\n",
    "st.markdown(\"---\")"
   ]
  },
  {
   "cell_type": "code",
   "execution_count": null,
   "metadata": {},
   "outputs": [],
   "source": [
    "# File uploader widget\n",
    "uploaded_file = st.file_uploader(\"Upload an excel file of the peaks\", type=[\"xlsx\"])\n",
    "\n",
    "# Check if a file has been uploaded\n",
    "if uploaded_file is not None:\n",
    "    # Read the uploaded file as a DataFrame\n",
    "    data = pd.read_excel(uploaded_file)\n",
    "    \n",
    "    # Display the uploaded DataFrame\n",
    "    st.write(\"Uploaded DataFrame:\")\n",
    "    st.write(data)"
   ]
  },
  {
   "cell_type": "markdown",
   "metadata": {},
   "source": [
    "pre-processing and qc steps\n",
    "return parent peak retention time median, min RT, max RT, enter global parent peak RT (optional)\n",
    "parent API peak cutoff\n"
   ]
  },
  {
   "cell_type": "code",
   "execution_count": 78,
   "metadata": {},
   "outputs": [],
   "source": [
    "df_vial_counts = data.groupby(['Vial']).size().reset_index(name='peakCount')\n",
    "maxarea = data.groupby(['Vial'])['Area'].max().reset_index()\n",
    "areasum = data.groupby(['Vial'])['Area'].sum().reset_index(name='Sum of Area')\n",
    "maxarea['Area Sum'] = areasum['Sum of Area']\n",
    "maxarea['Area Ratio'] = maxarea['Area']/ maxarea['Area Sum']*100\n",
    "RTmax= (data.sort_values(['Vial', 'Area'], ascending=[True, False])\n",
    "             .drop_duplicates(['Vial']).reset_index(drop=True)\n",
    "          )\n",
    "maxarea = pd.merge(maxarea,RTmax,how = 'left', on = ['Vial', 'Area'])\n",
    "maxarea = pd.merge(maxarea,df_vial_counts, how = 'left', on = 'Vial')\n",
    "maxarea[['Plate','Vial_Well']] = maxarea['Vial'].str.split(':',expand=True)"
   ]
  },
  {
   "cell_type": "code",
   "execution_count": 79,
   "metadata": {},
   "outputs": [
    {
     "name": "stdout",
     "output_type": "stream",
     "text": [
      "Median retention time: 4.525\n",
      "Minimum retention time: 4.504\n",
      "Maximum retention time: 4.533\n"
     ]
    }
   ],
   "source": [
    "\n",
    "median_retention_time = maxarea['Retention Time'].median()\n",
    "min_retention_time = maxarea['Retention Time'].min()\n",
    "max_retention_time = maxarea['Retention Time'].max()\n",
    "#print median, min and max retention time\n",
    "print('Median retention time:', median_retention_time)\n",
    "print('Minimum retention time:', min_retention_time)\n",
    "print('Maximum retention time:', max_retention_time)"
   ]
  },
  {
   "cell_type": "markdown",
   "metadata": {},
   "source": [
    "calculate RRT values, count of vial peaks, sum of AreaRatio, Assign noise, Shift global RRT option to merge"
   ]
  },
  {
   "cell_type": "code",
   "execution_count": 80,
   "metadata": {},
   "outputs": [
    {
     "name": "stdout",
     "output_type": "stream",
     "text": [
      "    RRT  peakCount  AreaRatio Sum\n",
      "0  0.38          2       0.008530\n",
      "1  0.96         85       0.464306\n",
      "2  1.00         84      84.000000\n",
      "3  1.23          2       0.011536\n",
      "4  1.25          1       0.010340\n",
      "5  1.26          4       0.041026\n",
      "6  1.27         34       0.146039\n",
      "7  1.28         22       0.042847\n",
      "8  1.30          2       0.005959\n",
      "9  1.31          1       0.001705\n"
     ]
    }
   ],
   "source": [
    "#calculate relative rention time 'RRT' of all of the peaks\n",
    "data['RRT'] = data.apply(lambda row: row['Retention Time'] / maxarea[maxarea['Vial'] == row['Vial']]['Retention Time'].values[0], axis=1)\n",
    "data['RRT'] = data['RRT'].round(2)\n",
    "#calculate Area ratio of all of the peaks\n",
    "data['AreaRatio'] = data.apply(lambda row: row['Area']/ maxarea[maxarea['Vial'] == row['Vial']]['Area'].values[0], axis=1)\n",
    "#count number of rows with each RRT value\n",
    "df_RRT_counts = data.groupby(['RRT']).size().reset_index(name='peakCount')\n",
    "#find the RRT value with the highest number of peaks\n",
    "max_RRT = df_RRT_counts[df_RRT_counts['peakCount'] == df_RRT_counts['peakCount'].max()]['RRT'].values[0]\n",
    "#return the sum of the area ratio values for each RRT value\n",
    "df_RRT_area_ratio = data.groupby(['RRT'])['AreaRatio'].sum().reset_index(name='AreaRatio Sum')\n",
    "df_RRT = pd.merge(df_RRT_counts, df_RRT_area_ratio, on='RRT')\n",
    "print(df_RRT.head(10))"
   ]
  },
  {
   "cell_type": "code",
   "execution_count": 81,
   "metadata": {},
   "outputs": [],
   "source": [
    "#subset data to only the rows SampleName, Vial, RRT, and AreaRatio\n",
    "data = data[['SampleName', 'Vial', 'RRT', 'AreaRatio']]"
   ]
  },
  {
   "cell_type": "markdown",
   "metadata": {},
   "source": [
    "After you choose which peaks to shift, show what you are shifting in a table essentially"
   ]
  },
  {
   "cell_type": "code",
   "execution_count": 82,
   "metadata": {},
   "outputs": [
    {
     "name": "stderr",
     "output_type": "stream",
     "text": [
      "2024-09-04 11:24:06.685 Thread 'MainThread': missing ScriptRunContext! This warning can be ignored when running in bare mode.\n",
      "2024-09-04 11:24:06.687 Thread 'MainThread': missing ScriptRunContext! This warning can be ignored when running in bare mode.\n",
      "2024-09-04 11:24:06.688 Thread 'MainThread': missing ScriptRunContext! This warning can be ignored when running in bare mode.\n",
      "2024-09-04 11:24:06.689 Thread 'MainThread': missing ScriptRunContext! This warning can be ignored when running in bare mode.\n",
      "2024-09-04 11:24:06.690 Thread 'MainThread': missing ScriptRunContext! This warning can be ignored when running in bare mode.\n",
      "2024-09-04 11:24:06.692 Thread 'MainThread': missing ScriptRunContext! This warning can be ignored when running in bare mode.\n",
      "2024-09-04 11:24:06.694 Thread 'MainThread': missing ScriptRunContext! This warning can be ignored when running in bare mode.\n",
      "2024-09-04 11:24:06.695 Thread 'MainThread': missing ScriptRunContext! This warning can be ignored when running in bare mode.\n",
      "2024-09-04 11:24:06.696 Thread 'MainThread': missing ScriptRunContext! This warning can be ignored when running in bare mode.\n",
      "2024-09-04 11:24:06.698 Thread 'MainThread': missing ScriptRunContext! This warning can be ignored when running in bare mode.\n",
      "2024-09-04 11:24:06.699 Thread 'MainThread': missing ScriptRunContext! This warning can be ignored when running in bare mode.\n",
      "C:\\Users\\sinegraa\\AppData\\Local\\Temp\\ipykernel_21640\\762664664.py:37: FutureWarning: The frame.append method is deprecated and will be removed from pandas in a future version. Use pandas.concat instead.\n",
      "  selected_rows_df = selected_rows_df.append(data[data['RRT'] == row['RRT']], ignore_index=True)\n",
      "2024-09-04 11:24:06.702 Thread 'MainThread': missing ScriptRunContext! This warning can be ignored when running in bare mode.\n",
      "2024-09-04 11:24:06.702 Thread 'MainThread': missing ScriptRunContext! This warning can be ignored when running in bare mode.\n",
      "2024-09-04 11:24:06.703 Thread 'MainThread': missing ScriptRunContext! This warning can be ignored when running in bare mode.\n",
      "2024-09-04 11:24:06.704 Thread 'MainThread': missing ScriptRunContext! This warning can be ignored when running in bare mode.\n",
      "2024-09-04 11:24:06.705 Thread 'MainThread': missing ScriptRunContext! This warning can be ignored when running in bare mode.\n",
      "2024-09-04 11:24:06.709 Thread 'MainThread': missing ScriptRunContext! This warning can be ignored when running in bare mode.\n",
      "2024-09-04 11:24:06.710 Thread 'MainThread': missing ScriptRunContext! This warning can be ignored when running in bare mode.\n",
      "2024-09-04 11:24:06.713 Thread 'MainThread': missing ScriptRunContext! This warning can be ignored when running in bare mode.\n",
      "2024-09-04 11:24:06.715 Thread 'MainThread': missing ScriptRunContext! This warning can be ignored when running in bare mode.\n",
      "2024-09-04 11:24:06.716 Thread 'MainThread': missing ScriptRunContext! This warning can be ignored when running in bare mode.\n",
      "2024-09-04 11:24:06.720 Thread 'MainThread': missing ScriptRunContext! This warning can be ignored when running in bare mode.\n",
      "2024-09-04 11:24:06.721 Thread 'MainThread': missing ScriptRunContext! This warning can be ignored when running in bare mode.\n",
      "2024-09-04 11:24:06.722 Thread 'MainThread': missing ScriptRunContext! This warning can be ignored when running in bare mode.\n",
      "2024-09-04 11:24:06.723 Thread 'MainThread': missing ScriptRunContext! This warning can be ignored when running in bare mode.\n",
      "2024-09-04 11:24:06.723 Thread 'MainThread': missing ScriptRunContext! This warning can be ignored when running in bare mode.\n",
      "2024-09-04 11:24:06.726 Thread 'MainThread': missing ScriptRunContext! This warning can be ignored when running in bare mode.\n",
      "2024-09-04 11:24:06.726 Thread 'MainThread': missing ScriptRunContext! This warning can be ignored when running in bare mode.\n",
      "2024-09-04 11:24:06.727 Thread 'MainThread': missing ScriptRunContext! This warning can be ignored when running in bare mode.\n",
      "2024-09-04 11:24:06.728 Thread 'MainThread': missing ScriptRunContext! This warning can be ignored when running in bare mode.\n",
      "2024-09-04 11:24:06.737 Thread 'MainThread': missing ScriptRunContext! This warning can be ignored when running in bare mode.\n",
      "2024-09-04 11:24:06.740 Thread 'MainThread': missing ScriptRunContext! This warning can be ignored when running in bare mode.\n",
      "2024-09-04 11:24:06.742 Thread 'MainThread': missing ScriptRunContext! This warning can be ignored when running in bare mode.\n",
      "2024-09-04 11:24:06.744 Thread 'MainThread': missing ScriptRunContext! This warning can be ignored when running in bare mode.\n",
      "2024-09-04 11:24:06.745 Thread 'MainThread': missing ScriptRunContext! This warning can be ignored when running in bare mode.\n",
      "2024-09-04 11:24:06.747 Thread 'MainThread': missing ScriptRunContext! This warning can be ignored when running in bare mode.\n",
      "2024-09-04 11:24:06.752 Thread 'MainThread': missing ScriptRunContext! This warning can be ignored when running in bare mode.\n",
      "2024-09-04 11:24:06.754 Thread 'MainThread': missing ScriptRunContext! This warning can be ignored when running in bare mode.\n",
      "2024-09-04 11:24:06.755 Thread 'MainThread': missing ScriptRunContext! This warning can be ignored when running in bare mode.\n",
      "2024-09-04 11:24:06.758 Thread 'MainThread': missing ScriptRunContext! This warning can be ignored when running in bare mode.\n",
      "2024-09-04 11:24:06.760 Thread 'MainThread': missing ScriptRunContext! This warning can be ignored when running in bare mode.\n",
      "2024-09-04 11:24:06.764 Thread 'MainThread': missing ScriptRunContext! This warning can be ignored when running in bare mode.\n",
      "2024-09-04 11:24:06.766 Thread 'MainThread': missing ScriptRunContext! This warning can be ignored when running in bare mode.\n",
      "2024-09-04 11:24:06.768 Thread 'MainThread': missing ScriptRunContext! This warning can be ignored when running in bare mode.\n",
      "2024-09-04 11:24:06.771 Thread 'MainThread': missing ScriptRunContext! This warning can be ignored when running in bare mode.\n",
      "2024-09-04 11:24:06.772 Thread 'MainThread': missing ScriptRunContext! This warning can be ignored when running in bare mode.\n",
      "2024-09-04 11:24:06.779 Thread 'MainThread': missing ScriptRunContext! This warning can be ignored when running in bare mode.\n",
      "2024-09-04 11:24:06.780 Thread 'MainThread': missing ScriptRunContext! This warning can be ignored when running in bare mode.\n",
      "2024-09-04 11:24:06.782 Thread 'MainThread': missing ScriptRunContext! This warning can be ignored when running in bare mode.\n",
      "2024-09-04 11:24:06.785 Thread 'MainThread': missing ScriptRunContext! This warning can be ignored when running in bare mode.\n",
      "2024-09-04 11:24:06.786 Thread 'MainThread': missing ScriptRunContext! This warning can be ignored when running in bare mode.\n",
      "2024-09-04 11:24:06.790 Thread 'MainThread': missing ScriptRunContext! This warning can be ignored when running in bare mode.\n",
      "2024-09-04 11:24:06.792 Thread 'MainThread': missing ScriptRunContext! This warning can be ignored when running in bare mode.\n",
      "2024-09-04 11:24:06.793 Thread 'MainThread': missing ScriptRunContext! This warning can be ignored when running in bare mode.\n",
      "2024-09-04 11:24:06.794 Thread 'MainThread': missing ScriptRunContext! This warning can be ignored when running in bare mode.\n",
      "2024-09-04 11:24:06.795 Thread 'MainThread': missing ScriptRunContext! This warning can be ignored when running in bare mode.\n",
      "2024-09-04 11:24:06.816 Thread 'MainThread': missing ScriptRunContext! This warning can be ignored when running in bare mode.\n",
      "2024-09-04 11:24:06.817 Thread 'MainThread': missing ScriptRunContext! This warning can be ignored when running in bare mode.\n",
      "2024-09-04 11:24:06.818 Thread 'MainThread': missing ScriptRunContext! This warning can be ignored when running in bare mode.\n",
      "2024-09-04 11:24:06.819 Thread 'MainThread': missing ScriptRunContext! This warning can be ignored when running in bare mode.\n",
      "2024-09-04 11:24:06.824 Thread 'MainThread': missing ScriptRunContext! This warning can be ignored when running in bare mode.\n",
      "2024-09-04 11:24:06.825 Thread 'MainThread': missing ScriptRunContext! This warning can be ignored when running in bare mode.\n",
      "2024-09-04 11:24:06.829 Thread 'MainThread': missing ScriptRunContext! This warning can be ignored when running in bare mode.\n",
      "2024-09-04 11:24:06.830 Thread 'MainThread': missing ScriptRunContext! This warning can be ignored when running in bare mode.\n",
      "2024-09-04 11:24:06.832 Thread 'MainThread': missing ScriptRunContext! This warning can be ignored when running in bare mode.\n",
      "2024-09-04 11:24:06.836 Thread 'MainThread': missing ScriptRunContext! This warning can be ignored when running in bare mode.\n",
      "2024-09-04 11:24:06.837 Thread 'MainThread': missing ScriptRunContext! This warning can be ignored when running in bare mode.\n"
     ]
    },
    {
     "data": {
      "text/plain": [
       "False"
      ]
     },
     "execution_count": 82,
     "metadata": {},
     "output_type": "execute_result"
    }
   ],
   "source": [
    "selected_rows_df = pd.DataFrame(columns=data.columns)\n",
    "df_RRT['shift global RRT'] = 'None'\n",
    "# Streamlit title\n",
    "st.title(\"Select global RRT values for merging peaks\")\n",
    "\n",
    "# Function to find the row with the next least 'RRT' value for the same 'vial'\n",
    "def find_next_least_rrt(df, vial, rrt):\n",
    "    subset_df = df[(df['Vial'] == vial) & (df['RRT'] > rrt)]\n",
    "    if not subset_df.empty:\n",
    "        next_row = subset_df.loc[subset_df['RRT'].idxmin()]\n",
    "        return next_row\n",
    "    else:\n",
    "        return None\n",
    "\n",
    "# Function to find the row with the next highest 'RRT' value for the same 'vial'\n",
    "def find_next_highest_rrt(df, vial, rrt):\n",
    "    subset_df = df[(df['Vial'] == vial) & (df['RRT'] < rrt)]\n",
    "    if not subset_df.empty:\n",
    "        next_row = subset_df.loc[subset_df['RRT'].idxmax()]\n",
    "        return next_row\n",
    "    else:\n",
    "        return None\n",
    "\n",
    "# Display dropdown menus for each row\n",
    "st.write(\"Select an action for each row:\")\n",
    "for index, row in df_RRT.iterrows():\n",
    "    # Dropdown for selecting an action with 'None' as the default option\n",
    "    shiftaction = st.selectbox(\n",
    "        f\"Action for {row['shift global RRT']}:\",\n",
    "        options=['None', '< shift to left', '> shift to right'],\n",
    "        index=0,  # 'None' is the default option\n",
    "        key=index  # Use the row index as the key for unique identification\n",
    "    )\n",
    "\n",
    "    # if 'None' is selected, add the rows from each vial with this RRT value to the 'selected_rows_df'\n",
    "    if shiftaction == 'None':\n",
    "        selected_rows_df = selected_rows_df.append(data[data['RRT'] == row['RRT']], ignore_index=True)\n",
    "\n",
    "    \n",
    "    # If \"< shift to left\" is selected, find the next lowest RRT row and combine their arearatios and add to 'selected_rows_df\n",
    "    if shiftaction == '< shift to left':\n",
    "        next_row = find_next_least_rrt(data, row['Vial'], row['RRT'])\n",
    "        if next_row is not None:\n",
    "            next_row['SampleName'] = row['SampleName']\n",
    "            next_row['Vial'] = row['Vial']\n",
    "            next_row['RRT'] = next_row['RRT']\n",
    "            next_row['AreaRatio'] = row['AreaRatio'] + next_row['AreaRatio']\n",
    "            selected_rows_df = selected_rows_df.append(next_row, ignore_index=True)\n",
    "    \n",
    "    # If \"> shift to right\" is selected, find the next highest RRT row and combine their arearatios and add to `selected_rows_df`\n",
    "    elif shiftaction == '> shift to right':\n",
    "        next_row = find_next_highest_rrt(data, row['Vial'], row['RRT'])\n",
    "        if next_row is not None:\n",
    "            next_row['SampleName'] = row['SampleName']\n",
    "            next_row['Vial'] = row['Vial']\n",
    "            next_row['RRT'] = next_row['RRT']\n",
    "            next_row['AreaRatio'] = row['AreaRatio'] + next_row['AreaRatio']\n",
    "            selected_rows_df = selected_rows_df.append(next_row, ignore_index=True)\n",
    "# Display the updated DataFrame\n",
    "pivoted_df = selected_rows_df.pivot_table(index=['SampleName', 'Vial'], columns='RRT', values='AreaRatio', fill_value=0)\n",
    "st.write(\"Selected Rows DataFrame:\")\n",
    "st.write(selected_rows_df)\n",
    "# Convert the DataFrame to a CSV format\n",
    "csv = pivoted_df.to_csv(index=False)\n",
    "st.download_button(\n",
    "    label=\"Download Output as CSV\",\n",
    "    data=csv,\n",
    "    file_name='selected_rows.csv',\n",
    "    mime='text/csv',\n",
    ")\n"
   ]
  },
  {
   "cell_type": "code",
   "execution_count": 83,
   "metadata": {},
   "outputs": [
    {
     "name": "stdout",
     "output_type": "stream",
     "text": [
      "RRT                      0.38      0.96  1.00  1.23  1.25  1.26      1.27  \\\n",
      "SampleName       Vial                                                       \n",
      "6 weeks 40C 75RH 3:A,1    0.0  0.005500     1   0.0   0.0   0.0  0.000000   \n",
      "                 3:A,10   0.0  0.005534     1   0.0   0.0   0.0  0.000000   \n",
      "                 3:A,11   0.0  0.005632     1   0.0   0.0   0.0  0.000000   \n",
      "                 3:A,12   0.0  0.005491     1   0.0   0.0   0.0  0.000000   \n",
      "                 3:A,2    0.0  0.005439     1   0.0   0.0   0.0  0.000000   \n",
      "                 3:A,3    0.0  0.005483     1   0.0   0.0   0.0  0.000000   \n",
      "                 3:A,4    0.0  0.005314     1   0.0   0.0   0.0  0.000000   \n",
      "                 3:A,5    0.0  0.005444     1   0.0   0.0   0.0  0.000000   \n",
      "                 3:A,6    0.0  0.005423     1   0.0   0.0   0.0  0.000000   \n",
      "                 3:A,7    0.0  0.005438     1   0.0   0.0   0.0  0.003899   \n",
      "\n",
      "RRT                      1.28  1.30  1.31  \n",
      "SampleName       Vial                      \n",
      "6 weeks 40C 75RH 3:A,1    0.0   0.0   0.0  \n",
      "                 3:A,10   0.0   0.0   0.0  \n",
      "                 3:A,11   0.0   0.0   0.0  \n",
      "                 3:A,12   0.0   0.0   0.0  \n",
      "                 3:A,2    0.0   0.0   0.0  \n",
      "                 3:A,3    0.0   0.0   0.0  \n",
      "                 3:A,4    0.0   0.0   0.0  \n",
      "                 3:A,5    0.0   0.0   0.0  \n",
      "                 3:A,6    0.0   0.0   0.0  \n",
      "                 3:A,7    0.0   0.0   0.0  \n"
     ]
    }
   ],
   "source": [
    "print(pivoted_df.head(10))"
   ]
  }
 ],
 "metadata": {
  "kernelspec": {
   "display_name": "Python 3 (ipykernel)",
   "language": "python",
   "name": "python3"
  },
  "language_info": {
   "codemirror_mode": {
    "name": "ipython",
    "version": 3
   },
   "file_extension": ".py",
   "mimetype": "text/x-python",
   "name": "python",
   "nbconvert_exporter": "python",
   "pygments_lexer": "ipython3",
   "version": "3.10.6"
  }
 },
 "nbformat": 4,
 "nbformat_minor": 4
}
